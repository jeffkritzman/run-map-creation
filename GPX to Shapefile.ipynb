{
 "cells": [
  {
   "cell_type": "markdown",
   "id": "564a21a7",
   "metadata": {},
   "source": [
    "A script to convert GPX files (e.g., from Strava) to Shapefiles (e.g., to use in Tableau)\n",
    "\n",
    "Resources:\n",
    "https://towardsdatascience.com/data-science-for-cycling-how-to-read-gpx-strava-routes-with-python-e45714d5da23\n",
    "https://pypi.org/project/gpxpy/\n",
    "https://www.reddit.com/r/running/comments/2q7czr/a_quick_guide_freeing_your_data_from_mapmyrun/"
   ]
  },
  {
   "cell_type": "markdown",
   "id": "e264331a",
   "metadata": {},
   "source": [
    "! pip install gpxpy"
   ]
  },
  {
   "cell_type": "code",
   "execution_count": 1,
   "id": "33968e1c",
   "metadata": {},
   "outputs": [],
   "source": [
    "import gpxpy\n",
    "import gpxpy.gpx\n",
    "import os\n",
    "import pandas as pd\n",
    "import matplotlib.pyplot as plt\n",
    "plt.rcParams['axes.spines.top'] = False\n",
    "plt.rcParams['axes.spines.right'] = False"
   ]
  },
  {
   "cell_type": "code",
   "execution_count": 11,
   "id": "3fae6a6b",
   "metadata": {},
   "outputs": [],
   "source": [
    "#function to parse gpx data for each gpx file\n",
    "def parse_gpx(gpx, route_info, filename):\n",
    "    for track in gpx.tracks:\n",
    "        workouttype = track.name\n",
    "        for segment in track.segments:\n",
    "            for point in segment.points:\n",
    "                route_info.append({\n",
    "                    'workoutid': filename,\n",
    "                    'workouttype': workouttype,\n",
    "                    'latitude': point.latitude,\n",
    "                    'longitude': point.longitude,\n",
    "                    'elevation': point.elevation,\n",
    "                    'datetime': point.time\n",
    "                })"
   ]
  },
  {
   "cell_type": "code",
   "execution_count": 12,
   "id": "60d895d3",
   "metadata": {},
   "outputs": [
    {
     "data": {
      "text/html": [
       "<div>\n",
       "<style scoped>\n",
       "    .dataframe tbody tr th:only-of-type {\n",
       "        vertical-align: middle;\n",
       "    }\n",
       "\n",
       "    .dataframe tbody tr th {\n",
       "        vertical-align: top;\n",
       "    }\n",
       "\n",
       "    .dataframe thead th {\n",
       "        text-align: right;\n",
       "    }\n",
       "</style>\n",
       "<table border=\"1\" class=\"dataframe\">\n",
       "  <thead>\n",
       "    <tr style=\"text-align: right;\">\n",
       "      <th></th>\n",
       "      <th>workoutid</th>\n",
       "      <th>workouttype</th>\n",
       "      <th>latitude</th>\n",
       "      <th>longitude</th>\n",
       "      <th>elevation</th>\n",
       "      <th>datetime</th>\n",
       "    </tr>\n",
       "  </thead>\n",
       "  <tbody>\n",
       "    <tr>\n",
       "      <th>0</th>\n",
       "      <td>3945897190.gpx</td>\n",
       "      <td>Lunch Run</td>\n",
       "      <td>41.654471</td>\n",
       "      <td>-91.520230</td>\n",
       "      <td>218.8</td>\n",
       "      <td>2020-08-21 16:06:06+00:00</td>\n",
       "    </tr>\n",
       "    <tr>\n",
       "      <th>1</th>\n",
       "      <td>3945897190.gpx</td>\n",
       "      <td>Lunch Run</td>\n",
       "      <td>41.654555</td>\n",
       "      <td>-91.520147</td>\n",
       "      <td>218.9</td>\n",
       "      <td>2020-08-21 16:06:07+00:00</td>\n",
       "    </tr>\n",
       "    <tr>\n",
       "      <th>2</th>\n",
       "      <td>3945897190.gpx</td>\n",
       "      <td>Lunch Run</td>\n",
       "      <td>41.654496</td>\n",
       "      <td>-91.520262</td>\n",
       "      <td>219.0</td>\n",
       "      <td>2020-08-21 16:06:12+00:00</td>\n",
       "    </tr>\n",
       "    <tr>\n",
       "      <th>3</th>\n",
       "      <td>3945897190.gpx</td>\n",
       "      <td>Lunch Run</td>\n",
       "      <td>41.654496</td>\n",
       "      <td>-91.520262</td>\n",
       "      <td>219.0</td>\n",
       "      <td>2020-08-21 16:06:13+00:00</td>\n",
       "    </tr>\n",
       "    <tr>\n",
       "      <th>4</th>\n",
       "      <td>3945897190.gpx</td>\n",
       "      <td>Lunch Run</td>\n",
       "      <td>41.654481</td>\n",
       "      <td>-91.520251</td>\n",
       "      <td>219.0</td>\n",
       "      <td>2020-08-21 16:06:14+00:00</td>\n",
       "    </tr>\n",
       "  </tbody>\n",
       "</table>\n",
       "</div>"
      ],
      "text/plain": [
       "        workoutid workouttype   latitude  longitude  elevation  \\\n",
       "0  3945897190.gpx   Lunch Run  41.654471 -91.520230      218.8   \n",
       "1  3945897190.gpx   Lunch Run  41.654555 -91.520147      218.9   \n",
       "2  3945897190.gpx   Lunch Run  41.654496 -91.520262      219.0   \n",
       "3  3945897190.gpx   Lunch Run  41.654496 -91.520262      219.0   \n",
       "4  3945897190.gpx   Lunch Run  41.654481 -91.520251      219.0   \n",
       "\n",
       "                   datetime  \n",
       "0 2020-08-21 16:06:06+00:00  \n",
       "1 2020-08-21 16:06:07+00:00  \n",
       "2 2020-08-21 16:06:12+00:00  \n",
       "3 2020-08-21 16:06:13+00:00  \n",
       "4 2020-08-21 16:06:14+00:00  "
      ]
     },
     "execution_count": 12,
     "metadata": {},
     "output_type": "execute_result"
    }
   ],
   "source": [
    "# assign directory\n",
    "directory = 'files'\n",
    "stravadirectory = directory + '/activities'\n",
    "\n",
    "route_info = []\n",
    "\n",
    "# iterate over strava files\n",
    "for filename in os.listdir(stravadirectory):\n",
    "    f = os.path.join(stravadirectory, filename)\n",
    "    # checking if it is a file\n",
    "    if os.path.isfile(f):\n",
    "        with open(f, 'r') as gpx_file:\n",
    "            gpx = gpxpy.parse(gpx_file)\n",
    "        parse_gpx(gpx, route_info, filename)\n",
    "        \n",
    "route_df = pd.DataFrame(route_info)\n",
    "route_df.head()"
   ]
  },
  {
   "cell_type": "markdown",
   "id": "c17712ef",
   "metadata": {},
   "source": [
    "#assorted gpxpy functions\n",
    "gpx\n",
    "gpx.get_track_points_no()\n",
    "gpx.get_elevation_extremes()\n",
    "gpx.get_uphill_downhill()\n",
    "gpx.to_xml()[:1000]\n",
    "len(gpx.tracks) # num of runs, etc\n",
    "\n",
    "gpx.tracks[0].segments[0]\n",
    "gpx.tracks[0].segments[0].points[:10]\n",
    "gpx.tracks[0]"
   ]
  },
  {
   "cell_type": "code",
   "execution_count": 13,
   "id": "0e0a1def",
   "metadata": {},
   "outputs": [],
   "source": [
    "route_df.to_csv('files/route_df.csv', index=False)"
   ]
  }
 ],
 "metadata": {
  "kernelspec": {
   "display_name": "Python 3 (ipykernel)",
   "language": "python",
   "name": "python3"
  },
  "language_info": {
   "codemirror_mode": {
    "name": "ipython",
    "version": 3
   },
   "file_extension": ".py",
   "mimetype": "text/x-python",
   "name": "python",
   "nbconvert_exporter": "python",
   "pygments_lexer": "ipython3",
   "version": "3.9.12"
  }
 },
 "nbformat": 4,
 "nbformat_minor": 5
}
